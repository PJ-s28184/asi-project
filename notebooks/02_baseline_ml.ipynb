{
 "cells": [
  {
   "metadata": {},
   "cell_type": "code",
   "outputs": [],
   "execution_count": null,
   "source": "",
   "id": "9d46cb3d8acc6f83"
  }
 ],
 "metadata": {},
 "nbformat": 4,
 "nbformat_minor": 5
}
